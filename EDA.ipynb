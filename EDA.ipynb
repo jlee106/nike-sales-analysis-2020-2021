{
 "cells": [
  {
   "cell_type": "markdown",
   "id": "86437993",
   "metadata": {},
   "source": [
    "## Project: Nike US Sales Data Analysis\n",
    "### The objective of this project is to analyse synthetic Nike US Sales dataset in 2 parts:\n",
    "1. Exploratory Data Analysis (EDA) on Python\n",
    "2. Dashboarding on PowerBI"
   ]
  },
  {
   "cell_type": "markdown",
   "id": "b56e47d0",
   "metadata": {},
   "source": [
    "### Let's first import the relevant libraries"
   ]
  },
  {
   "cell_type": "code",
   "execution_count": 1,
   "id": "0d50dbd8",
   "metadata": {},
   "outputs": [],
   "source": [
    "import pandas as pd\n",
    "import seaborn as sns\n",
    "import matplotlib.pyplot as plt\n",
    "%matplotlib inline\n",
    "import numpy as np"
   ]
  },
  {
   "cell_type": "markdown",
   "id": "6ba201c0",
   "metadata": {},
   "source": [
    "### Load Data"
   ]
  },
  {
   "cell_type": "code",
   "execution_count": 2,
   "id": "d4c270b9",
   "metadata": {},
   "outputs": [],
   "source": [
    "sales = pd.read_csv('./datasets/nike_dataset.csv')"
   ]
  },
  {
   "cell_type": "markdown",
   "id": "5d77317f",
   "metadata": {},
   "source": [
    "### 1.1 Preview Data"
   ]
  },
  {
   "cell_type": "code",
   "execution_count": 3,
   "id": "827c509f",
   "metadata": {},
   "outputs": [
    {
     "data": {
      "text/html": [
       "<div>\n",
       "<style scoped>\n",
       "    .dataframe tbody tr th:only-of-type {\n",
       "        vertical-align: middle;\n",
       "    }\n",
       "\n",
       "    .dataframe tbody tr th {\n",
       "        vertical-align: top;\n",
       "    }\n",
       "\n",
       "    .dataframe thead th {\n",
       "        text-align: right;\n",
       "    }\n",
       "</style>\n",
       "<table border=\"1\" class=\"dataframe\">\n",
       "  <thead>\n",
       "    <tr style=\"text-align: right;\">\n",
       "      <th></th>\n",
       "      <th>Invoice Date</th>\n",
       "      <th>Product</th>\n",
       "      <th>Region</th>\n",
       "      <th>Retailer</th>\n",
       "      <th>Sales Method</th>\n",
       "      <th>State</th>\n",
       "      <th>Price per Unit</th>\n",
       "      <th>Total Sales</th>\n",
       "      <th>Units Sold</th>\n",
       "    </tr>\n",
       "  </thead>\n",
       "  <tbody>\n",
       "    <tr>\n",
       "      <th>0</th>\n",
       "      <td>01-01-2020</td>\n",
       "      <td>Men's Street Footwear</td>\n",
       "      <td>Northeast</td>\n",
       "      <td>Foot Locker</td>\n",
       "      <td>In-store</td>\n",
       "      <td>New York</td>\n",
       "      <td>50</td>\n",
       "      <td>6000</td>\n",
       "      <td>120</td>\n",
       "    </tr>\n",
       "    <tr>\n",
       "      <th>1</th>\n",
       "      <td>02-01-2020</td>\n",
       "      <td>Men's Athletic Footwear</td>\n",
       "      <td>Northeast</td>\n",
       "      <td>Foot Locker</td>\n",
       "      <td>In-store</td>\n",
       "      <td>New York</td>\n",
       "      <td>50</td>\n",
       "      <td>5000</td>\n",
       "      <td>100</td>\n",
       "    </tr>\n",
       "    <tr>\n",
       "      <th>2</th>\n",
       "      <td>03-01-2020</td>\n",
       "      <td>Women's Street Footwear</td>\n",
       "      <td>Northeast</td>\n",
       "      <td>Foot Locker</td>\n",
       "      <td>In-store</td>\n",
       "      <td>New York</td>\n",
       "      <td>40</td>\n",
       "      <td>4000</td>\n",
       "      <td>100</td>\n",
       "    </tr>\n",
       "    <tr>\n",
       "      <th>3</th>\n",
       "      <td>04-01-2020</td>\n",
       "      <td>Women's Athletic Footwear</td>\n",
       "      <td>Northeast</td>\n",
       "      <td>Foot Locker</td>\n",
       "      <td>In-store</td>\n",
       "      <td>New York</td>\n",
       "      <td>45</td>\n",
       "      <td>3825</td>\n",
       "      <td>85</td>\n",
       "    </tr>\n",
       "    <tr>\n",
       "      <th>4</th>\n",
       "      <td>05-01-2020</td>\n",
       "      <td>Men's Apparel</td>\n",
       "      <td>Northeast</td>\n",
       "      <td>Foot Locker</td>\n",
       "      <td>In-store</td>\n",
       "      <td>New York</td>\n",
       "      <td>60</td>\n",
       "      <td>5400</td>\n",
       "      <td>90</td>\n",
       "    </tr>\n",
       "  </tbody>\n",
       "</table>\n",
       "</div>"
      ],
      "text/plain": [
       "  Invoice Date                    Product     Region     Retailer  \\\n",
       "0   01-01-2020      Men's Street Footwear  Northeast  Foot Locker   \n",
       "1   02-01-2020    Men's Athletic Footwear  Northeast  Foot Locker   \n",
       "2   03-01-2020    Women's Street Footwear  Northeast  Foot Locker   \n",
       "3   04-01-2020  Women's Athletic Footwear  Northeast  Foot Locker   \n",
       "4   05-01-2020              Men's Apparel  Northeast  Foot Locker   \n",
       "\n",
       "  Sales Method     State  Price per Unit  Total Sales  Units Sold  \n",
       "0     In-store  New York              50         6000         120  \n",
       "1     In-store  New York              50         5000         100  \n",
       "2     In-store  New York              40         4000         100  \n",
       "3     In-store  New York              45         3825          85  \n",
       "4     In-store  New York              60         5400          90  "
      ]
     },
     "execution_count": 3,
     "metadata": {},
     "output_type": "execute_result"
    }
   ],
   "source": [
    "sales.head()"
   ]
  },
  {
   "cell_type": "code",
   "execution_count": 4,
   "id": "f25703bd",
   "metadata": {},
   "outputs": [
    {
     "name": "stdout",
     "output_type": "stream",
     "text": [
      "There are 9360 rows and 9 columns.\n"
     ]
    }
   ],
   "source": [
    "print(f'There are {sales.shape[0]} rows and {sales.shape[1]} columns.')"
   ]
  },
  {
   "cell_type": "markdown",
   "id": "fe1bbfce",
   "metadata": {},
   "source": [
    "### 1.2 Datatypes"
   ]
  },
  {
   "cell_type": "code",
   "execution_count": 5,
   "id": "538334d0",
   "metadata": {},
   "outputs": [
    {
     "data": {
      "text/plain": [
       "Invoice Date      object\n",
       "Product           object\n",
       "Region            object\n",
       "Retailer          object\n",
       "Sales Method      object\n",
       "State             object\n",
       "Price per Unit     int64\n",
       "Total Sales        int64\n",
       "Units Sold         int64\n",
       "dtype: object"
      ]
     },
     "execution_count": 5,
     "metadata": {},
     "output_type": "execute_result"
    }
   ],
   "source": [
    "sales.dtypes"
   ]
  },
  {
   "cell_type": "code",
   "execution_count": 6,
   "id": "ef031f44",
   "metadata": {},
   "outputs": [],
   "source": [
    "#transform invoice column to datetime datatype\n",
    "sales['Invoice Date'] = pd.to_datetime(sales['Invoice Date'], format='%d-%m-%Y')"
   ]
  },
  {
   "cell_type": "code",
   "execution_count": 7,
   "id": "702189d7",
   "metadata": {},
   "outputs": [
    {
     "data": {
      "text/plain": [
       "Invoice Date      datetime64[ns]\n",
       "Product                   object\n",
       "Region                    object\n",
       "Retailer                  object\n",
       "Sales Method              object\n",
       "State                     object\n",
       "Price per Unit             int64\n",
       "Total Sales                int64\n",
       "Units Sold                 int64\n",
       "dtype: object"
      ]
     },
     "execution_count": 7,
     "metadata": {},
     "output_type": "execute_result"
    }
   ],
   "source": [
    "#validate the change\n",
    "sales.dtypes"
   ]
  },
  {
   "cell_type": "markdown",
   "id": "31bcec86",
   "metadata": {},
   "source": [
    "### 1.3 Check for missing values"
   ]
  },
  {
   "cell_type": "code",
   "execution_count": 8,
   "id": "b388a45a",
   "metadata": {},
   "outputs": [
    {
     "data": {
      "text/plain": [
       "Invoice Date      0\n",
       "Product           0\n",
       "Region            0\n",
       "Retailer          0\n",
       "Sales Method      0\n",
       "State             0\n",
       "Price per Unit    0\n",
       "Total Sales       0\n",
       "Units Sold        0\n",
       "dtype: int64"
      ]
     },
     "execution_count": 8,
     "metadata": {},
     "output_type": "execute_result"
    }
   ],
   "source": [
    "sales.isna().sum()"
   ]
  },
  {
   "cell_type": "markdown",
   "id": "31afb730",
   "metadata": {},
   "source": [
    "### 1.4 Check for duplicates"
   ]
  },
  {
   "cell_type": "code",
   "execution_count": 9,
   "id": "4118c935",
   "metadata": {},
   "outputs": [
    {
     "data": {
      "text/plain": [
       "np.int64(0)"
      ]
     },
     "execution_count": 9,
     "metadata": {},
     "output_type": "execute_result"
    }
   ],
   "source": [
    "sales.duplicated().sum()"
   ]
  },
  {
   "cell_type": "markdown",
   "id": "cfeb7849",
   "metadata": {},
   "source": [
    "### 1.5 Check for unique values"
   ]
  },
  {
   "cell_type": "code",
   "execution_count": 10,
   "id": "8f633953",
   "metadata": {},
   "outputs": [
    {
     "data": {
      "text/plain": [
       "Invoice Date      724\n",
       "Product             6\n",
       "Region              5\n",
       "Retailer            6\n",
       "Sales Method        3\n",
       "State              48\n",
       "Price per Unit     94\n",
       "Total Sales       550\n",
       "Units Sold         89\n",
       "dtype: int64"
      ]
     },
     "execution_count": 10,
     "metadata": {},
     "output_type": "execute_result"
    }
   ],
   "source": [
    "sales.nunique()"
   ]
  },
  {
   "cell_type": "markdown",
   "id": "ac5fc19a",
   "metadata": {},
   "source": [
    "### 1.6 Descriptive Statistics"
   ]
  },
  {
   "cell_type": "code",
   "execution_count": 11,
   "id": "91638fd6",
   "metadata": {},
   "outputs": [
    {
     "data": {
      "text/html": [
       "<div>\n",
       "<style scoped>\n",
       "    .dataframe tbody tr th:only-of-type {\n",
       "        vertical-align: middle;\n",
       "    }\n",
       "\n",
       "    .dataframe tbody tr th {\n",
       "        vertical-align: top;\n",
       "    }\n",
       "\n",
       "    .dataframe thead th {\n",
       "        text-align: right;\n",
       "    }\n",
       "</style>\n",
       "<table border=\"1\" class=\"dataframe\">\n",
       "  <thead>\n",
       "    <tr style=\"text-align: right;\">\n",
       "      <th></th>\n",
       "      <th>Invoice Date</th>\n",
       "      <th>Price per Unit</th>\n",
       "      <th>Total Sales</th>\n",
       "      <th>Units Sold</th>\n",
       "    </tr>\n",
       "  </thead>\n",
       "  <tbody>\n",
       "    <tr>\n",
       "      <th>count</th>\n",
       "      <td>9360</td>\n",
       "      <td>9360.000000</td>\n",
       "      <td>9360.00000</td>\n",
       "      <td>9360.000000</td>\n",
       "    </tr>\n",
       "    <tr>\n",
       "      <th>mean</th>\n",
       "      <td>2021-05-09 08:01:59.999999744</td>\n",
       "      <td>44.739209</td>\n",
       "      <td>921.93109</td>\n",
       "      <td>25.852991</td>\n",
       "    </tr>\n",
       "    <tr>\n",
       "      <th>min</th>\n",
       "      <td>2020-01-01 00:00:00</td>\n",
       "      <td>7.000000</td>\n",
       "      <td>0.00000</td>\n",
       "      <td>0.000000</td>\n",
       "    </tr>\n",
       "    <tr>\n",
       "      <th>25%</th>\n",
       "      <td>2021-02-15 00:00:00</td>\n",
       "      <td>35.000000</td>\n",
       "      <td>42.00000</td>\n",
       "      <td>11.000000</td>\n",
       "    </tr>\n",
       "    <tr>\n",
       "      <th>50%</th>\n",
       "      <td>2021-06-03 00:00:00</td>\n",
       "      <td>45.000000</td>\n",
       "      <td>95.00000</td>\n",
       "      <td>18.000000</td>\n",
       "    </tr>\n",
       "    <tr>\n",
       "      <th>75%</th>\n",
       "      <td>2021-09-16 00:00:00</td>\n",
       "      <td>55.000000</td>\n",
       "      <td>1463.00000</td>\n",
       "      <td>35.000000</td>\n",
       "    </tr>\n",
       "    <tr>\n",
       "      <th>max</th>\n",
       "      <td>2021-12-31 00:00:00</td>\n",
       "      <td>110.000000</td>\n",
       "      <td>8250.00000</td>\n",
       "      <td>128.000000</td>\n",
       "    </tr>\n",
       "    <tr>\n",
       "      <th>std</th>\n",
       "      <td>NaN</td>\n",
       "      <td>14.506338</td>\n",
       "      <td>1413.84279</td>\n",
       "      <td>21.591922</td>\n",
       "    </tr>\n",
       "  </tbody>\n",
       "</table>\n",
       "</div>"
      ],
      "text/plain": [
       "                        Invoice Date  Price per Unit  Total Sales   Units Sold\n",
       "count                           9360     9360.000000   9360.00000  9360.000000\n",
       "mean   2021-05-09 08:01:59.999999744       44.739209    921.93109    25.852991\n",
       "min              2020-01-01 00:00:00        7.000000      0.00000     0.000000\n",
       "25%              2021-02-15 00:00:00       35.000000     42.00000    11.000000\n",
       "50%              2021-06-03 00:00:00       45.000000     95.00000    18.000000\n",
       "75%              2021-09-16 00:00:00       55.000000   1463.00000    35.000000\n",
       "max              2021-12-31 00:00:00      110.000000   8250.00000   128.000000\n",
       "std                              NaN       14.506338   1413.84279    21.591922"
      ]
     },
     "execution_count": 11,
     "metadata": {},
     "output_type": "execute_result"
    }
   ],
   "source": [
    "sales.describe()"
   ]
  },
  {
   "cell_type": "code",
   "execution_count": 12,
   "id": "6b725254",
   "metadata": {},
   "outputs": [
    {
     "data": {
      "text/html": [
       "<div>\n",
       "<style scoped>\n",
       "    .dataframe tbody tr th:only-of-type {\n",
       "        vertical-align: middle;\n",
       "    }\n",
       "\n",
       "    .dataframe tbody tr th {\n",
       "        vertical-align: top;\n",
       "    }\n",
       "\n",
       "    .dataframe thead th {\n",
       "        text-align: right;\n",
       "    }\n",
       "</style>\n",
       "<table border=\"1\" class=\"dataframe\">\n",
       "  <thead>\n",
       "    <tr style=\"text-align: right;\">\n",
       "      <th></th>\n",
       "      <th>Product</th>\n",
       "      <th>Region</th>\n",
       "      <th>Retailer</th>\n",
       "      <th>Sales Method</th>\n",
       "      <th>State</th>\n",
       "    </tr>\n",
       "  </thead>\n",
       "  <tbody>\n",
       "    <tr>\n",
       "      <th>count</th>\n",
       "      <td>9360</td>\n",
       "      <td>9360</td>\n",
       "      <td>9360</td>\n",
       "      <td>9360</td>\n",
       "      <td>9360</td>\n",
       "    </tr>\n",
       "    <tr>\n",
       "      <th>unique</th>\n",
       "      <td>6</td>\n",
       "      <td>5</td>\n",
       "      <td>6</td>\n",
       "      <td>3</td>\n",
       "      <td>48</td>\n",
       "    </tr>\n",
       "    <tr>\n",
       "      <th>top</th>\n",
       "      <td>Men's Street Footwear</td>\n",
       "      <td>Northeast</td>\n",
       "      <td>Foot Locker</td>\n",
       "      <td>Online</td>\n",
       "      <td>Texas</td>\n",
       "    </tr>\n",
       "    <tr>\n",
       "      <th>freq</th>\n",
       "      <td>1560</td>\n",
       "      <td>2376</td>\n",
       "      <td>2545</td>\n",
       "      <td>4745</td>\n",
       "      <td>432</td>\n",
       "    </tr>\n",
       "  </tbody>\n",
       "</table>\n",
       "</div>"
      ],
      "text/plain": [
       "                      Product     Region     Retailer Sales Method  State\n",
       "count                    9360       9360         9360         9360   9360\n",
       "unique                      6          5            6            3     48\n",
       "top     Men's Street Footwear  Northeast  Foot Locker       Online  Texas\n",
       "freq                     1560       2376         2545         4745    432"
      ]
     },
     "execution_count": 12,
     "metadata": {},
     "output_type": "execute_result"
    }
   ],
   "source": [
    "#to do for non numeric/datetime columns as well.\n",
    "sales.describe(include='object')"
   ]
  },
  {
   "cell_type": "markdown",
   "id": "59140d06",
   "metadata": {},
   "source": [
    "### 1.7 Check for outliers"
   ]
  },
  {
   "cell_type": "code",
   "execution_count": 13,
   "id": "6693e06d",
   "metadata": {},
   "outputs": [
    {
     "data": {
      "image/png": "[encoded data removed]",
      "text/plain": [
       "<Figure size 640x480 with 1 Axes>"
      ]
     },
     "metadata": {},
     "output_type": "display_data"
    }
   ],
   "source": [
    "sales.boxplot(column=['Price per Unit', 'Total Sales', 'Units Sold'])\n",
    "plt.show()"
   ]
  },
  {
   "cell_type": "markdown",
   "id": "755762d4",
   "metadata": {},
   "source": [
    "#### Ok, the scale is very different so lets do them separately using a for loop"
   ]
  },
  {
   "cell_type": "code",
   "execution_count": 14,
   "id": "a5b7a68c",
   "metadata": {},
   "outputs": [
    {
     "data": {
      "image/png": "[encoded data removed]",
      "text/plain": [
       "<Figure size 640x480 with 1 Axes>"
      ]
     },
     "metadata": {},
     "output_type": "display_data"
    },
    {
     "data": {
      "image/png": "[encoded data removed]",
      "text/plain": [
       "<Figure size 640x480 with 1 Axes>"
      ]
     },
     "metadata": {},
     "output_type": "display_data"
    },
    {
     "data": {
      "image/png": "[encoded data removed]",
      "text/plain": [
       "<Figure size 640x480 with 1 Axes>"
      ]
     },
     "metadata": {},
     "output_type": "display_data"
    }
   ],
   "source": [
    "cols = ['Price per Unit', 'Total Sales', 'Units Sold']\n",
    "\n",
    "for col in cols:\n",
    "    sales.boxplot(column=[col])\n",
    "    plt.show()"
   ]
  },
  {
   "cell_type": "markdown",
   "id": "e4450c62",
   "metadata": {},
   "source": [
    "### Seems like Total Sales has the most outliers"
   ]
  },
  {
   "cell_type": "markdown",
   "id": "fb036316",
   "metadata": {},
   "source": [
    "### Now let's look at the outliers too"
   ]
  },
  {
   "cell_type": "code",
   "execution_count": 15,
   "id": "243d5f20",
   "metadata": {},
   "outputs": [
    {
     "name": "stdout",
     "output_type": "stream",
     "text": [
      "Outliers for column: Price per Unit\n"
     ]
    },
    {
     "data": {
      "text/html": [
       "<div>\n",
       "<style scoped>\n",
       "    .dataframe tbody tr th:only-of-type {\n",
       "        vertical-align: middle;\n",
       "    }\n",
       "\n",
       "    .dataframe tbody tr th {\n",
       "        vertical-align: top;\n",
       "    }\n",
       "\n",
       "    .dataframe thead th {\n",
       "        text-align: right;\n",
       "    }\n",
       "</style>\n",
       "<table border=\"1\" class=\"dataframe\">\n",
       "  <thead>\n",
       "    <tr style=\"text-align: right;\">\n",
       "      <th></th>\n",
       "      <th>Invoice Date</th>\n",
       "      <th>Product</th>\n",
       "      <th>Region</th>\n",
       "      <th>Retailer</th>\n",
       "      <th>Sales Method</th>\n",
       "      <th>State</th>\n",
       "      <th>Price per Unit</th>\n",
       "      <th>Total Sales</th>\n",
       "      <th>Units Sold</th>\n",
       "    </tr>\n",
       "  </thead>\n",
       "  <tbody>\n",
       "    <tr>\n",
       "      <th>679</th>\n",
       "      <td>2020-06-30</td>\n",
       "      <td>Women's Apparel</td>\n",
       "      <td>West</td>\n",
       "      <td>West Gear</td>\n",
       "      <td>In-store</td>\n",
       "      <td>Washington</td>\n",
       "      <td>100</td>\n",
       "      <td>6750</td>\n",
       "      <td>68</td>\n",
       "    </tr>\n",
       "    <tr>\n",
       "      <th>685</th>\n",
       "      <td>2020-07-06</td>\n",
       "      <td>Women's Apparel</td>\n",
       "      <td>West</td>\n",
       "      <td>West Gear</td>\n",
       "      <td>In-store</td>\n",
       "      <td>Washington</td>\n",
       "      <td>100</td>\n",
       "      <td>5750</td>\n",
       "      <td>58</td>\n",
       "    </tr>\n",
       "    <tr>\n",
       "      <th>708</th>\n",
       "      <td>2020-07-29</td>\n",
       "      <td>Men's Apparel</td>\n",
       "      <td>West</td>\n",
       "      <td>West Gear</td>\n",
       "      <td>In-store</td>\n",
       "      <td>Washington</td>\n",
       "      <td>90</td>\n",
       "      <td>3825</td>\n",
       "      <td>43</td>\n",
       "    </tr>\n",
       "    <tr>\n",
       "      <th>709</th>\n",
       "      <td>2020-07-30</td>\n",
       "      <td>Women's Apparel</td>\n",
       "      <td>West</td>\n",
       "      <td>West Gear</td>\n",
       "      <td>In-store</td>\n",
       "      <td>Washington</td>\n",
       "      <td>95</td>\n",
       "      <td>5225</td>\n",
       "      <td>55</td>\n",
       "    </tr>\n",
       "    <tr>\n",
       "      <th>714</th>\n",
       "      <td>2020-08-04</td>\n",
       "      <td>Men's Apparel</td>\n",
       "      <td>West</td>\n",
       "      <td>West Gear</td>\n",
       "      <td>In-store</td>\n",
       "      <td>Washington</td>\n",
       "      <td>90</td>\n",
       "      <td>4275</td>\n",
       "      <td>48</td>\n",
       "    </tr>\n",
       "    <tr>\n",
       "      <th>...</th>\n",
       "      <td>...</td>\n",
       "      <td>...</td>\n",
       "      <td>...</td>\n",
       "      <td>...</td>\n",
       "      <td>...</td>\n",
       "      <td>...</td>\n",
       "      <td>...</td>\n",
       "      <td>...</td>\n",
       "      <td>...</td>\n",
       "    </tr>\n",
       "    <tr>\n",
       "      <th>3370</th>\n",
       "      <td>2020-07-30</td>\n",
       "      <td>Women's Apparel</td>\n",
       "      <td>West</td>\n",
       "      <td>West Gear</td>\n",
       "      <td>Online</td>\n",
       "      <td>Washington</td>\n",
       "      <td>88</td>\n",
       "      <td>121</td>\n",
       "      <td>14</td>\n",
       "    </tr>\n",
       "    <tr>\n",
       "      <th>3375</th>\n",
       "      <td>2020-08-05</td>\n",
       "      <td>Women's Apparel</td>\n",
       "      <td>West</td>\n",
       "      <td>West Gear</td>\n",
       "      <td>Online</td>\n",
       "      <td>Washington</td>\n",
       "      <td>86</td>\n",
       "      <td>129</td>\n",
       "      <td>15</td>\n",
       "    </tr>\n",
       "    <tr>\n",
       "      <th>3376</th>\n",
       "      <td>2020-06-30</td>\n",
       "      <td>Women's Apparel</td>\n",
       "      <td>West</td>\n",
       "      <td>West Gear</td>\n",
       "      <td>Online</td>\n",
       "      <td>Washington</td>\n",
       "      <td>98</td>\n",
       "      <td>178</td>\n",
       "      <td>18</td>\n",
       "    </tr>\n",
       "    <tr>\n",
       "      <th>3379</th>\n",
       "      <td>2020-07-06</td>\n",
       "      <td>Women's Apparel</td>\n",
       "      <td>West</td>\n",
       "      <td>West Gear</td>\n",
       "      <td>Online</td>\n",
       "      <td>Washington</td>\n",
       "      <td>95</td>\n",
       "      <td>147</td>\n",
       "      <td>16</td>\n",
       "    </tr>\n",
       "    <tr>\n",
       "      <th>3478</th>\n",
       "      <td>2021-07-23</td>\n",
       "      <td>Women's Street Footwear</td>\n",
       "      <td>West</td>\n",
       "      <td>West Gear</td>\n",
       "      <td>Online</td>\n",
       "      <td>Oregon</td>\n",
       "      <td>86</td>\n",
       "      <td>140</td>\n",
       "      <td>16</td>\n",
       "    </tr>\n",
       "  </tbody>\n",
       "</table>\n",
       "<p>73 rows × 9 columns</p>\n",
       "</div>"
      ],
      "text/plain": [
       "     Invoice Date                  Product Region   Retailer Sales Method  \\\n",
       "679    2020-06-30          Women's Apparel   West  West Gear     In-store   \n",
       "685    2020-07-06          Women's Apparel   West  West Gear     In-store   \n",
       "708    2020-07-29            Men's Apparel   West  West Gear     In-store   \n",
       "709    2020-07-30          Women's Apparel   West  West Gear     In-store   \n",
       "714    2020-08-04            Men's Apparel   West  West Gear     In-store   \n",
       "...           ...                      ...    ...        ...          ...   \n",
       "3370   2020-07-30          Women's Apparel   West  West Gear       Online   \n",
       "3375   2020-08-05          Women's Apparel   West  West Gear       Online   \n",
       "3376   2020-06-30          Women's Apparel   West  West Gear       Online   \n",
       "3379   2020-07-06          Women's Apparel   West  West Gear       Online   \n",
       "3478   2021-07-23  Women's Street Footwear   West  West Gear       Online   \n",
       "\n",
       "           State  Price per Unit  Total Sales  Units Sold  \n",
       "679   Washington             100         6750          68  \n",
       "685   Washington             100         5750          58  \n",
       "708   Washington              90         3825          43  \n",
       "709   Washington              95         5225          55  \n",
       "714   Washington              90         4275          48  \n",
       "...          ...             ...          ...         ...  \n",
       "3370  Washington              88          121          14  \n",
       "3375  Washington              86          129          15  \n",
       "3376  Washington              98          178          18  \n",
       "3379  Washington              95          147          16  \n",
       "3478      Oregon              86          140          16  \n",
       "\n",
       "[73 rows x 9 columns]"
      ]
     },
     "metadata": {},
     "output_type": "display_data"
    },
    {
     "name": "stdout",
     "output_type": "stream",
     "text": [
      "Outliers for column: Total Sales\n"
     ]
    },
    {
     "data": {
      "text/html": [
       "<div>\n",
       "<style scoped>\n",
       "    .dataframe tbody tr th:only-of-type {\n",
       "        vertical-align: middle;\n",
       "    }\n",
       "\n",
       "    .dataframe tbody tr th {\n",
       "        vertical-align: top;\n",
       "    }\n",
       "\n",
       "    .dataframe thead th {\n",
       "        text-align: right;\n",
       "    }\n",
       "</style>\n",
       "<table border=\"1\" class=\"dataframe\">\n",
       "  <thead>\n",
       "    <tr style=\"text-align: right;\">\n",
       "      <th></th>\n",
       "      <th>Invoice Date</th>\n",
       "      <th>Product</th>\n",
       "      <th>Region</th>\n",
       "      <th>Retailer</th>\n",
       "      <th>Sales Method</th>\n",
       "      <th>State</th>\n",
       "      <th>Price per Unit</th>\n",
       "      <th>Total Sales</th>\n",
       "      <th>Units Sold</th>\n",
       "    </tr>\n",
       "  </thead>\n",
       "  <tbody>\n",
       "    <tr>\n",
       "      <th>0</th>\n",
       "      <td>2020-01-01</td>\n",
       "      <td>Men's Street Footwear</td>\n",
       "      <td>Northeast</td>\n",
       "      <td>Foot Locker</td>\n",
       "      <td>In-store</td>\n",
       "      <td>New York</td>\n",
       "      <td>50</td>\n",
       "      <td>6000</td>\n",
       "      <td>120</td>\n",
       "    </tr>\n",
       "    <tr>\n",
       "      <th>1</th>\n",
       "      <td>2020-01-02</td>\n",
       "      <td>Men's Athletic Footwear</td>\n",
       "      <td>Northeast</td>\n",
       "      <td>Foot Locker</td>\n",
       "      <td>In-store</td>\n",
       "      <td>New York</td>\n",
       "      <td>50</td>\n",
       "      <td>5000</td>\n",
       "      <td>100</td>\n",
       "    </tr>\n",
       "    <tr>\n",
       "      <th>2</th>\n",
       "      <td>2020-01-03</td>\n",
       "      <td>Women's Street Footwear</td>\n",
       "      <td>Northeast</td>\n",
       "      <td>Foot Locker</td>\n",
       "      <td>In-store</td>\n",
       "      <td>New York</td>\n",
       "      <td>40</td>\n",
       "      <td>4000</td>\n",
       "      <td>100</td>\n",
       "    </tr>\n",
       "    <tr>\n",
       "      <th>3</th>\n",
       "      <td>2020-01-04</td>\n",
       "      <td>Women's Athletic Footwear</td>\n",
       "      <td>Northeast</td>\n",
       "      <td>Foot Locker</td>\n",
       "      <td>In-store</td>\n",
       "      <td>New York</td>\n",
       "      <td>45</td>\n",
       "      <td>3825</td>\n",
       "      <td>85</td>\n",
       "    </tr>\n",
       "    <tr>\n",
       "      <th>4</th>\n",
       "      <td>2020-01-05</td>\n",
       "      <td>Men's Apparel</td>\n",
       "      <td>Northeast</td>\n",
       "      <td>Foot Locker</td>\n",
       "      <td>In-store</td>\n",
       "      <td>New York</td>\n",
       "      <td>60</td>\n",
       "      <td>5400</td>\n",
       "      <td>90</td>\n",
       "    </tr>\n",
       "    <tr>\n",
       "      <th>...</th>\n",
       "      <td>...</td>\n",
       "      <td>...</td>\n",
       "      <td>...</td>\n",
       "      <td>...</td>\n",
       "      <td>...</td>\n",
       "      <td>...</td>\n",
       "      <td>...</td>\n",
       "      <td>...</td>\n",
       "      <td>...</td>\n",
       "    </tr>\n",
       "    <tr>\n",
       "      <th>9082</th>\n",
       "      <td>2021-09-08</td>\n",
       "      <td>Women's Street Footwear</td>\n",
       "      <td>South</td>\n",
       "      <td>Sports Direct</td>\n",
       "      <td>Outlet</td>\n",
       "      <td>Alabama</td>\n",
       "      <td>45</td>\n",
       "      <td>4388</td>\n",
       "      <td>98</td>\n",
       "    </tr>\n",
       "    <tr>\n",
       "      <th>9084</th>\n",
       "      <td>2021-09-14</td>\n",
       "      <td>Women's Street Footwear</td>\n",
       "      <td>South</td>\n",
       "      <td>Sports Direct</td>\n",
       "      <td>Outlet</td>\n",
       "      <td>Alabama</td>\n",
       "      <td>55</td>\n",
       "      <td>5088</td>\n",
       "      <td>93</td>\n",
       "    </tr>\n",
       "    <tr>\n",
       "      <th>9085</th>\n",
       "      <td>2021-09-20</td>\n",
       "      <td>Women's Street Footwear</td>\n",
       "      <td>South</td>\n",
       "      <td>Sports Direct</td>\n",
       "      <td>Outlet</td>\n",
       "      <td>Alabama</td>\n",
       "      <td>60</td>\n",
       "      <td>3750</td>\n",
       "      <td>63</td>\n",
       "    </tr>\n",
       "    <tr>\n",
       "      <th>9086</th>\n",
       "      <td>2021-10-08</td>\n",
       "      <td>Women's Street Footwear</td>\n",
       "      <td>South</td>\n",
       "      <td>Sports Direct</td>\n",
       "      <td>Outlet</td>\n",
       "      <td>Alabama</td>\n",
       "      <td>65</td>\n",
       "      <td>4550</td>\n",
       "      <td>70</td>\n",
       "    </tr>\n",
       "    <tr>\n",
       "      <th>9102</th>\n",
       "      <td>2021-05-17</td>\n",
       "      <td>Women's Street Footwear</td>\n",
       "      <td>South</td>\n",
       "      <td>Sports Direct</td>\n",
       "      <td>Outlet</td>\n",
       "      <td>Tennessee</td>\n",
       "      <td>60</td>\n",
       "      <td>4200</td>\n",
       "      <td>70</td>\n",
       "    </tr>\n",
       "  </tbody>\n",
       "</table>\n",
       "<p>665 rows × 9 columns</p>\n",
       "</div>"
      ],
      "text/plain": [
       "     Invoice Date                    Product     Region       Retailer  \\\n",
       "0      2020-01-01      Men's Street Footwear  Northeast    Foot Locker   \n",
       "1      2020-01-02    Men's Athletic Footwear  Northeast    Foot Locker   \n",
       "2      2020-01-03    Women's Street Footwear  Northeast    Foot Locker   \n",
       "3      2020-01-04  Women's Athletic Footwear  Northeast    Foot Locker   \n",
       "4      2020-01-05              Men's Apparel  Northeast    Foot Locker   \n",
       "...           ...                        ...        ...            ...   \n",
       "9082   2021-09-08    Women's Street Footwear      South  Sports Direct   \n",
       "9084   2021-09-14    Women's Street Footwear      South  Sports Direct   \n",
       "9085   2021-09-20    Women's Street Footwear      South  Sports Direct   \n",
       "9086   2021-10-08    Women's Street Footwear      South  Sports Direct   \n",
       "9102   2021-05-17    Women's Street Footwear      South  Sports Direct   \n",
       "\n",
       "     Sales Method      State  Price per Unit  Total Sales  Units Sold  \n",
       "0        In-store   New York              50         6000         120  \n",
       "1        In-store   New York              50         5000         100  \n",
       "2        In-store   New York              40         4000         100  \n",
       "3        In-store   New York              45         3825          85  \n",
       "4        In-store   New York              60         5400          90  \n",
       "...           ...        ...             ...          ...         ...  \n",
       "9082       Outlet    Alabama              45         4388          98  \n",
       "9084       Outlet    Alabama              55         5088          93  \n",
       "9085       Outlet    Alabama              60         3750          63  \n",
       "9086       Outlet    Alabama              65         4550          70  \n",
       "9102       Outlet  Tennessee              60         4200          70  \n",
       "\n",
       "[665 rows x 9 columns]"
      ]
     },
     "metadata": {},
     "output_type": "display_data"
    },
    {
     "name": "stdout",
     "output_type": "stream",
     "text": [
      "Outliers for column: Units Sold\n"
     ]
    },
    {
     "data": {
      "text/html": [
       "<div>\n",
       "<style scoped>\n",
       "    .dataframe tbody tr th:only-of-type {\n",
       "        vertical-align: middle;\n",
       "    }\n",
       "\n",
       "    .dataframe tbody tr th {\n",
       "        vertical-align: top;\n",
       "    }\n",
       "\n",
       "    .dataframe thead th {\n",
       "        text-align: right;\n",
       "    }\n",
       "</style>\n",
       "<table border=\"1\" class=\"dataframe\">\n",
       "  <thead>\n",
       "    <tr style=\"text-align: right;\">\n",
       "      <th></th>\n",
       "      <th>Invoice Date</th>\n",
       "      <th>Product</th>\n",
       "      <th>Region</th>\n",
       "      <th>Retailer</th>\n",
       "      <th>Sales Method</th>\n",
       "      <th>State</th>\n",
       "      <th>Price per Unit</th>\n",
       "      <th>Total Sales</th>\n",
       "      <th>Units Sold</th>\n",
       "    </tr>\n",
       "  </thead>\n",
       "  <tbody>\n",
       "    <tr>\n",
       "      <th>0</th>\n",
       "      <td>2020-01-01</td>\n",
       "      <td>Men's Street Footwear</td>\n",
       "      <td>Northeast</td>\n",
       "      <td>Foot Locker</td>\n",
       "      <td>In-store</td>\n",
       "      <td>New York</td>\n",
       "      <td>50</td>\n",
       "      <td>6000</td>\n",
       "      <td>120</td>\n",
       "    </tr>\n",
       "    <tr>\n",
       "      <th>1</th>\n",
       "      <td>2020-01-02</td>\n",
       "      <td>Men's Athletic Footwear</td>\n",
       "      <td>Northeast</td>\n",
       "      <td>Foot Locker</td>\n",
       "      <td>In-store</td>\n",
       "      <td>New York</td>\n",
       "      <td>50</td>\n",
       "      <td>5000</td>\n",
       "      <td>100</td>\n",
       "    </tr>\n",
       "    <tr>\n",
       "      <th>2</th>\n",
       "      <td>2020-01-03</td>\n",
       "      <td>Women's Street Footwear</td>\n",
       "      <td>Northeast</td>\n",
       "      <td>Foot Locker</td>\n",
       "      <td>In-store</td>\n",
       "      <td>New York</td>\n",
       "      <td>40</td>\n",
       "      <td>4000</td>\n",
       "      <td>100</td>\n",
       "    </tr>\n",
       "    <tr>\n",
       "      <th>3</th>\n",
       "      <td>2020-01-04</td>\n",
       "      <td>Women's Athletic Footwear</td>\n",
       "      <td>Northeast</td>\n",
       "      <td>Foot Locker</td>\n",
       "      <td>In-store</td>\n",
       "      <td>New York</td>\n",
       "      <td>45</td>\n",
       "      <td>3825</td>\n",
       "      <td>85</td>\n",
       "    </tr>\n",
       "    <tr>\n",
       "      <th>4</th>\n",
       "      <td>2020-01-05</td>\n",
       "      <td>Men's Apparel</td>\n",
       "      <td>Northeast</td>\n",
       "      <td>Foot Locker</td>\n",
       "      <td>In-store</td>\n",
       "      <td>New York</td>\n",
       "      <td>60</td>\n",
       "      <td>5400</td>\n",
       "      <td>90</td>\n",
       "    </tr>\n",
       "    <tr>\n",
       "      <th>...</th>\n",
       "      <td>...</td>\n",
       "      <td>...</td>\n",
       "      <td>...</td>\n",
       "      <td>...</td>\n",
       "      <td>...</td>\n",
       "      <td>...</td>\n",
       "      <td>...</td>\n",
       "      <td>...</td>\n",
       "      <td>...</td>\n",
       "    </tr>\n",
       "    <tr>\n",
       "      <th>8985</th>\n",
       "      <td>2021-09-11</td>\n",
       "      <td>Women's Apparel</td>\n",
       "      <td>South</td>\n",
       "      <td>Sports Direct</td>\n",
       "      <td>Outlet</td>\n",
       "      <td>Alabama</td>\n",
       "      <td>60</td>\n",
       "      <td>4800</td>\n",
       "      <td>80</td>\n",
       "    </tr>\n",
       "    <tr>\n",
       "      <th>8986</th>\n",
       "      <td>2021-10-11</td>\n",
       "      <td>Women's Apparel</td>\n",
       "      <td>South</td>\n",
       "      <td>Sports Direct</td>\n",
       "      <td>Outlet</td>\n",
       "      <td>Alabama</td>\n",
       "      <td>70</td>\n",
       "      <td>5250</td>\n",
       "      <td>75</td>\n",
       "    </tr>\n",
       "    <tr>\n",
       "      <th>9001</th>\n",
       "      <td>2021-05-20</td>\n",
       "      <td>Women's Apparel</td>\n",
       "      <td>South</td>\n",
       "      <td>Sports Direct</td>\n",
       "      <td>Outlet</td>\n",
       "      <td>Tennessee</td>\n",
       "      <td>65</td>\n",
       "      <td>4875</td>\n",
       "      <td>75</td>\n",
       "    </tr>\n",
       "    <tr>\n",
       "      <th>9082</th>\n",
       "      <td>2021-09-08</td>\n",
       "      <td>Women's Street Footwear</td>\n",
       "      <td>South</td>\n",
       "      <td>Sports Direct</td>\n",
       "      <td>Outlet</td>\n",
       "      <td>Alabama</td>\n",
       "      <td>45</td>\n",
       "      <td>4388</td>\n",
       "      <td>98</td>\n",
       "    </tr>\n",
       "    <tr>\n",
       "      <th>9084</th>\n",
       "      <td>2021-09-14</td>\n",
       "      <td>Women's Street Footwear</td>\n",
       "      <td>South</td>\n",
       "      <td>Sports Direct</td>\n",
       "      <td>Outlet</td>\n",
       "      <td>Alabama</td>\n",
       "      <td>55</td>\n",
       "      <td>5088</td>\n",
       "      <td>93</td>\n",
       "    </tr>\n",
       "  </tbody>\n",
       "</table>\n",
       "<p>504 rows × 9 columns</p>\n",
       "</div>"
      ],
      "text/plain": [
       "     Invoice Date                    Product     Region       Retailer  \\\n",
       "0      2020-01-01      Men's Street Footwear  Northeast    Foot Locker   \n",
       "1      2020-01-02    Men's Athletic Footwear  Northeast    Foot Locker   \n",
       "2      2020-01-03    Women's Street Footwear  Northeast    Foot Locker   \n",
       "3      2020-01-04  Women's Athletic Footwear  Northeast    Foot Locker   \n",
       "4      2020-01-05              Men's Apparel  Northeast    Foot Locker   \n",
       "...           ...                        ...        ...            ...   \n",
       "8985   2021-09-11            Women's Apparel      South  Sports Direct   \n",
       "8986   2021-10-11            Women's Apparel      South  Sports Direct   \n",
       "9001   2021-05-20            Women's Apparel      South  Sports Direct   \n",
       "9082   2021-09-08    Women's Street Footwear      South  Sports Direct   \n",
       "9084   2021-09-14    Women's Street Footwear      South  Sports Direct   \n",
       "\n",
       "     Sales Method      State  Price per Unit  Total Sales  Units Sold  \n",
       "0        In-store   New York              50         6000         120  \n",
       "1        In-store   New York              50         5000         100  \n",
       "2        In-store   New York              40         4000         100  \n",
       "3        In-store   New York              45         3825          85  \n",
       "4        In-store   New York              60         5400          90  \n",
       "...           ...        ...             ...          ...         ...  \n",
       "8985       Outlet    Alabama              60         4800          80  \n",
       "8986       Outlet    Alabama              70         5250          75  \n",
       "9001       Outlet  Tennessee              65         4875          75  \n",
       "9082       Outlet    Alabama              45         4388          98  \n",
       "9084       Outlet    Alabama              55         5088          93  \n",
       "\n",
       "[504 rows x 9 columns]"
      ]
     },
     "metadata": {},
     "output_type": "display_data"
    }
   ],
   "source": [
    "from IPython.display import display\n",
    "\n",
    "for col in cols:\n",
    "    Q1 = sales[col].quantile(0.25)\n",
    "    Q3 = sales[col].quantile(0.75)\n",
    "    IQR = Q3 - Q1\n",
    "    outliers = sales[(sales[col] < Q1 - 1.5 * IQR) | (sales[col] > Q3 + 1.5 * IQR)]\n",
    "    \n",
    "    print(f\"Outliers for column: {col}\")\n",
    "    display(outliers)"
   ]
  },
  {
   "cell_type": "markdown",
   "id": "0279e83e",
   "metadata": {},
   "source": [
    "### Will keep the outliers as they form part of the sales too"
   ]
  },
  {
   "cell_type": "markdown",
   "id": "506bc4a5",
   "metadata": {},
   "source": [
    "### 1.8 Correlation Analysis"
   ]
  },
  {
   "cell_type": "code",
   "execution_count": 16,
   "id": "ea6e1017",
   "metadata": {},
   "outputs": [
    {
     "data": {
      "image/png": "[encoded data removed]",
      "text/plain": [
       "<Figure size 640x480 with 2 Axes>"
      ]
     },
     "metadata": {},
     "output_type": "display_data"
    }
   ],
   "source": [
    "sns.heatmap(sales.corr(numeric_only = True),annot = True, fmt='.2f', cmap='coolwarm')\n",
    "plt.show()"
   ]
  },
  {
   "cell_type": "markdown",
   "id": "d78606ec",
   "metadata": {},
   "source": [
    "### Honestly, not much use for correlation analysis as we are not doing any modelling "
   ]
  },
  {
   "cell_type": "markdown",
   "id": "11796914",
   "metadata": {},
   "source": [
    "### 1.9 Grouped Analysis"
   ]
  },
  {
   "cell_type": "code",
   "execution_count": 17,
   "id": "362a7eaf",
   "metadata": {},
   "outputs": [
    {
     "data": {
      "text/plain": [
       "Product\n",
       "Men's Apparel                 764.539744\n",
       "Men's Athletic Footwear       941.100000\n",
       "Men's Street Footwear        1281.533333\n",
       "Women's Apparel              1102.967949\n",
       "Women's Athletic Footwear     656.345513\n",
       "Women's Street Footwear       785.100000\n",
       "Name: Total Sales, dtype: float64"
      ]
     },
     "execution_count": 17,
     "metadata": {},
     "output_type": "execute_result"
    }
   ],
   "source": [
    "sales.groupby('Product')['Total Sales'].mean()\n"
   ]
  },
  {
   "cell_type": "code",
   "execution_count": 18,
   "id": "a807c5c8",
   "metadata": {},
   "outputs": [
    {
     "data": {
      "text/plain": [
       "Product\n",
       "Men's Apparel                6175\n",
       "Men's Athletic Footwear      7125\n",
       "Men's Street Footwear        8100\n",
       "Women's Apparel              8250\n",
       "Women's Athletic Footwear    5400\n",
       "Women's Street Footwear      6650\n",
       "Name: Total Sales, dtype: int64"
      ]
     },
     "execution_count": 18,
     "metadata": {},
     "output_type": "execute_result"
    }
   ],
   "source": [
    "sales.groupby('Product')['Total Sales'].max()"
   ]
  },
  {
   "cell_type": "code",
   "execution_count": 19,
   "id": "fd723d5b",
   "metadata": {},
   "outputs": [
    {
     "data": {
      "text/plain": [
       "Region\n",
       "Midwest       725.504808\n",
       "Northeast     784.271465\n",
       "South         837.223380\n",
       "Southeast    1333.158497\n",
       "West         1078.330093\n",
       "Name: Total Sales, dtype: float64"
      ]
     },
     "execution_count": 19,
     "metadata": {},
     "output_type": "execute_result"
    }
   ],
   "source": [
    "sales.groupby('Region')['Total Sales'].mean()\n"
   ]
  },
  {
   "cell_type": "code",
   "execution_count": 20,
   "id": "9f2e6cb1",
   "metadata": {},
   "outputs": [
    {
     "data": {
      "text/plain": [
       "Region\n",
       "Midwest      6188\n",
       "Northeast    7800\n",
       "South        8250\n",
       "Southeast    8250\n",
       "West         7350\n",
       "Name: Total Sales, dtype: int64"
      ]
     },
     "execution_count": 20,
     "metadata": {},
     "output_type": "execute_result"
    }
   ],
   "source": [
    "sales.groupby('Region')['Total Sales'].max()"
   ]
  },
  {
   "cell_type": "code",
   "execution_count": 21,
   "id": "7c41cdde",
   "metadata": {},
   "outputs": [
    {
     "data": {
      "text/plain": [
       "Retailer\n",
       "Amazon            781.772783\n",
       "Foot Locker       812.302554\n",
       "Kohl's            991.481553\n",
       "Sports Direct     892.245763\n",
       "Walmart          1164.436426\n",
       "West Gear        1023.501685\n",
       "Name: Total Sales, dtype: float64"
      ]
     },
     "execution_count": 21,
     "metadata": {},
     "output_type": "execute_result"
    }
   ],
   "source": [
    "sales.groupby('Retailer')['Total Sales'].mean()"
   ]
  },
  {
   "cell_type": "code",
   "execution_count": 22,
   "id": "08a984de",
   "metadata": {},
   "outputs": [
    {
     "data": {
      "text/plain": [
       "Retailer\n",
       "Amazon           6188\n",
       "Foot Locker      7650\n",
       "Kohl's           5200\n",
       "Sports Direct    6988\n",
       "Walmart          8250\n",
       "West Gear        8250\n",
       "Name: Total Sales, dtype: int64"
      ]
     },
     "execution_count": 22,
     "metadata": {},
     "output_type": "execute_result"
    }
   ],
   "source": [
    "sales.groupby('Retailer')['Total Sales'].max()"
   ]
  },
  {
   "cell_type": "code",
   "execution_count": 23,
   "id": "f47a0f74",
   "metadata": {},
   "outputs": [
    {
     "data": {
      "text/plain": [
       "Product\n",
       "Men's Apparel                1560\n",
       "Men's Athletic Footwear      1560\n",
       "Men's Street Footwear        1560\n",
       "Women's Apparel              1560\n",
       "Women's Athletic Footwear    1560\n",
       "Women's Street Footwear      1560\n",
       "dtype: int64"
      ]
     },
     "execution_count": 23,
     "metadata": {},
     "output_type": "execute_result"
    }
   ],
   "source": [
    "sales.groupby(['Product']).size()"
   ]
  },
  {
   "cell_type": "code",
   "execution_count": 24,
   "id": "04edd85a",
   "metadata": {},
   "outputs": [
    {
     "data": {
      "text/plain": [
       "Region\n",
       "Midwest      1872\n",
       "Northeast    2376\n",
       "South        1728\n",
       "Southeast    1224\n",
       "West         2160\n",
       "dtype: int64"
      ]
     },
     "execution_count": 24,
     "metadata": {},
     "output_type": "execute_result"
    }
   ],
   "source": [
    "sales.groupby(['Region']).size()"
   ]
  },
  {
   "cell_type": "code",
   "execution_count": 25,
   "id": "d8ae8365",
   "metadata": {},
   "outputs": [
    {
     "data": {
      "text/plain": [
       "Retailer\n",
       "Amazon            823\n",
       "Foot Locker      2545\n",
       "Kohl's           1030\n",
       "Sports Direct    2006\n",
       "Walmart           582\n",
       "West Gear        2374\n",
       "dtype: int64"
      ]
     },
     "execution_count": 25,
     "metadata": {},
     "output_type": "execute_result"
    }
   ],
   "source": [
    "sales.groupby(['Retailer']).size()"
   ]
  },
  {
   "cell_type": "markdown",
   "id": "5c096f6f",
   "metadata": {},
   "source": [
    "### 1.10 Visual Summary"
   ]
  },
  {
   "cell_type": "code",
   "execution_count": 26,
   "id": "48775aa9",
   "metadata": {},
   "outputs": [
    {
     "data": {
      "text/plain": [
       "array([[<Axes: title={'center': 'Invoice Date'}>,\n",
       "        <Axes: title={'center': 'Price per Unit'}>],\n",
       "       [<Axes: title={'center': 'Total Sales'}>,\n",
       "        <Axes: title={'center': 'Units Sold'}>]], dtype=object)"
      ]
     },
     "execution_count": 26,
     "metadata": {},
     "output_type": "execute_result"
    },
    {
     "data": {
      "image/png": "[encoded data removed]",
      "text/plain": [
       "<Figure size 1600x800 with 4 Axes>"
      ]
     },
     "metadata": {},
     "output_type": "display_data"
    }
   ],
   "source": [
    "sales.hist(figsize=(16, 8))"
   ]
  },
  {
   "cell_type": "code",
   "execution_count": 27,
   "id": "2844cf3b",
   "metadata": {},
   "outputs": [
    {
     "data": {
      "text/html": [
       "<div>\n",
       "<style scoped>\n",
       "    .dataframe tbody tr th:only-of-type {\n",
       "        vertical-align: middle;\n",
       "    }\n",
       "\n",
       "    .dataframe tbody tr th {\n",
       "        vertical-align: top;\n",
       "    }\n",
       "\n",
       "    .dataframe thead th {\n",
       "        text-align: right;\n",
       "    }\n",
       "</style>\n",
       "<table border=\"1\" class=\"dataframe\">\n",
       "  <thead>\n",
       "    <tr style=\"text-align: right;\">\n",
       "      <th></th>\n",
       "      <th>Invoice Date</th>\n",
       "      <th>Product</th>\n",
       "      <th>Region</th>\n",
       "      <th>Retailer</th>\n",
       "      <th>Sales Method</th>\n",
       "      <th>State</th>\n",
       "      <th>Price per Unit</th>\n",
       "      <th>Total Sales</th>\n",
       "      <th>Units Sold</th>\n",
       "    </tr>\n",
       "  </thead>\n",
       "  <tbody>\n",
       "    <tr>\n",
       "      <th>0</th>\n",
       "      <td>2020-01-01</td>\n",
       "      <td>Men's Street Footwear</td>\n",
       "      <td>Northeast</td>\n",
       "      <td>Foot Locker</td>\n",
       "      <td>In-store</td>\n",
       "      <td>New York</td>\n",
       "      <td>50</td>\n",
       "      <td>6000</td>\n",
       "      <td>120</td>\n",
       "    </tr>\n",
       "    <tr>\n",
       "      <th>1</th>\n",
       "      <td>2020-01-02</td>\n",
       "      <td>Men's Athletic Footwear</td>\n",
       "      <td>Northeast</td>\n",
       "      <td>Foot Locker</td>\n",
       "      <td>In-store</td>\n",
       "      <td>New York</td>\n",
       "      <td>50</td>\n",
       "      <td>5000</td>\n",
       "      <td>100</td>\n",
       "    </tr>\n",
       "    <tr>\n",
       "      <th>2</th>\n",
       "      <td>2020-01-03</td>\n",
       "      <td>Women's Street Footwear</td>\n",
       "      <td>Northeast</td>\n",
       "      <td>Foot Locker</td>\n",
       "      <td>In-store</td>\n",
       "      <td>New York</td>\n",
       "      <td>40</td>\n",
       "      <td>4000</td>\n",
       "      <td>100</td>\n",
       "    </tr>\n",
       "    <tr>\n",
       "      <th>3</th>\n",
       "      <td>2020-01-04</td>\n",
       "      <td>Women's Athletic Footwear</td>\n",
       "      <td>Northeast</td>\n",
       "      <td>Foot Locker</td>\n",
       "      <td>In-store</td>\n",
       "      <td>New York</td>\n",
       "      <td>45</td>\n",
       "      <td>3825</td>\n",
       "      <td>85</td>\n",
       "    </tr>\n",
       "    <tr>\n",
       "      <th>4</th>\n",
       "      <td>2020-01-05</td>\n",
       "      <td>Men's Apparel</td>\n",
       "      <td>Northeast</td>\n",
       "      <td>Foot Locker</td>\n",
       "      <td>In-store</td>\n",
       "      <td>New York</td>\n",
       "      <td>60</td>\n",
       "      <td>5400</td>\n",
       "      <td>90</td>\n",
       "    </tr>\n",
       "  </tbody>\n",
       "</table>\n",
       "</div>"
      ],
      "text/plain": [
       "  Invoice Date                    Product     Region     Retailer  \\\n",
       "0   2020-01-01      Men's Street Footwear  Northeast  Foot Locker   \n",
       "1   2020-01-02    Men's Athletic Footwear  Northeast  Foot Locker   \n",
       "2   2020-01-03    Women's Street Footwear  Northeast  Foot Locker   \n",
       "3   2020-01-04  Women's Athletic Footwear  Northeast  Foot Locker   \n",
       "4   2020-01-05              Men's Apparel  Northeast  Foot Locker   \n",
       "\n",
       "  Sales Method     State  Price per Unit  Total Sales  Units Sold  \n",
       "0     In-store  New York              50         6000         120  \n",
       "1     In-store  New York              50         5000         100  \n",
       "2     In-store  New York              40         4000         100  \n",
       "3     In-store  New York              45         3825          85  \n",
       "4     In-store  New York              60         5400          90  "
      ]
     },
     "execution_count": 27,
     "metadata": {},
     "output_type": "execute_result"
    }
   ],
   "source": [
    "sales.head()"
   ]
  },
  {
   "cell_type": "code",
   "execution_count": 29,
   "id": "ad2b360d",
   "metadata": {},
   "outputs": [
    {
     "data": {
      "image/png": "[encoded data removed]",
      "text/plain": [
       "<Figure size 640x480 with 1 Axes>"
      ]
     },
     "metadata": {},
     "output_type": "display_data"
    },
    {
     "data": {
      "image/png": "[encoded data removed]",
      "text/plain": [
       "<Figure size 640x480 with 1 Axes>"
      ]
     },
     "metadata": {},
     "output_type": "display_data"
    },
    {
     "data": {
      "image/png": "[encoded data removed]",
      "text/plain": [
       "<Figure size 640x480 with 1 Axes>"
      ]
     },
     "metadata": {},
     "output_type": "display_data"
    },
    {
     "data": {
      "image/png": "[encoded data removed]",
      "text/plain": [
       "<Figure size 640x480 with 1 Axes>"
      ]
     },
     "metadata": {},
     "output_type": "display_data"
    }
   ],
   "source": [
    "cols = ['Product', 'Region', 'Retailer', 'Sales Method']\n",
    "\n",
    "for col in cols:\n",
    "    sales[col].value_counts().plot(kind='bar')\n",
    "    plt.show()\n"
   ]
  }
 ],
 "metadata": {
  "kernelspec": {
   "display_name": "Python 3",
   "language": "python",
   "name": "python3"
  },
  "language_info": {
   "codemirror_mode": {
    "name": "ipython",
    "version": 3
   },
   "file_extension": ".py",
   "mimetype": "text/x-python",
   "name": "python",
   "nbconvert_exporter": "python",
   "pygments_lexer": "ipython3",
   "version": "3.13.4"
  }
 },
 "nbformat": 4,
 "nbformat_minor": 5
}
